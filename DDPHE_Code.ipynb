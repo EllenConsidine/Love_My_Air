{
 "cells": [
  {
   "cell_type": "markdown",
   "metadata": {},
   "source": [
    "### Script for DDPHE\n",
    "\n",
    "Data pre-processing:\n",
    "\n",
    "* Obtain hourly data from the Canary-S and AirNow sensors, via http://airsense.sensibleiot.com/\n",
    "* Remove all missing/negative values from the data\n",
    "* Extract the hour (1-24) and month (1-12) from the DateTime variable\n",
    "* Perform the following on the Hour and Month variables, respectively: cos(2*pi*Hour/24), cos(*pi*Month/12)\n",
    "* Determine whether the observation occurred on a weekend, based on the date --> boolean indicator\n",
    "* Extract the length of arterial roads in a 500-meter buffer of each monitor location (there is R code for this, if and when the list needs to be updated)\n",
    "\n",
    "Note: Road files can be found at https://drive.google.com/drive/folders/1kNEF3-kntNel9LpZvMZnKLnHJ3Fg0_gO?usp=sharing"
   ]
  },
  {
   "cell_type": "code",
   "execution_count": 5,
   "metadata": {},
   "outputs": [
    {
     "name": "stderr",
     "output_type": "stream",
     "text": [
      "C:\\Users\\ellen\\Anaconda3\\lib\\site-packages\\sklearn\\externals\\joblib\\__init__.py:15: DeprecationWarning: sklearn.externals.joblib is deprecated in 0.21 and will be removed in 0.23. Please import this functionality directly from joblib, which can be installed with: pip install joblib. If this warning is raised when loading pickled models, you may need to re-serialize those models with scikit-learn 0.21+.\n",
      "  warnings.warn(msg, category=DeprecationWarning)\n"
     ]
    }
   ],
   "source": [
    "from sklearn.ensemble import RandomForestRegressor\n",
    "from sklearn.pipeline import make_pipeline\n",
    "from sklearn.externals import joblib\n",
    "from sklearn import linear_model\n",
    "import pandas as pd"
   ]
  },
  {
   "cell_type": "code",
   "execution_count": null,
   "metadata": {},
   "outputs": [],
   "source": [
    "## Long-term calibration (random forest):\n",
    "\n",
    "#Read in data. I will call the data frame \"DATA\".\n",
    "X = DATA #data from collocated monitors; includes Canary-S PM2.5, temp, RH, cos(*pi*month/12), cos(2*pi*hour/24), \n",
    "                                        # weekend indicator, arterial roads in 500m buffer\n",
    "y = AirNow\n",
    "\n",
    "#Train\n",
    "pipe = make_pipeline(RandomForestRegressor(n_estimators = 250, min_samples_leaf = 5, max_features = 4, \n",
    "                                           bootstrap = True, random_state=0))\n",
    "pipe.fit(X, y)\n",
    "joblib.dump(pipe, 'Calibration_model.pkl')\n",
    "\n",
    "#Loading the saved model with joblib\n",
    "pipe = joblib.load('Calibration_model.pkl')\n",
    "\n",
    "# New data to predict\n",
    "pr = pd.read_csv('Archived_data.csv')\n",
    "\n",
    "# apply the whole pipeline to data\n",
    "predictions = pd.Series(pipe.predict(pr))"
   ]
  },
  {
   "cell_type": "code",
   "execution_count": null,
   "metadata": {},
   "outputs": [],
   "source": [
    "## Short-term regression (multiple linear regression):\n",
    "\n",
    "x = DATA #data from last three weeks; includes Canary-S PM2.5, temp, RH, and arterial roads in 500m buffer\n",
    "y = AirNow\n",
    "\n",
    "#Fit model\n",
    "lm = linear_model.LinearRegression()\n",
    "model = lm.fit(x,y)\n",
    "\n",
    "#Predict\n",
    "new_data #data from this week; includes Canary-S PM2.5, temp, RH, and arterial roads in 500m buffer\n",
    "predictions = lm.predict(new_data)"
   ]
  }
 ],
 "metadata": {
  "kernelspec": {
   "display_name": "Python 3",
   "language": "python",
   "name": "python3"
  },
  "language_info": {
   "codemirror_mode": {
    "name": "ipython",
    "version": 3
   },
   "file_extension": ".py",
   "mimetype": "text/x-python",
   "name": "python",
   "nbconvert_exporter": "python",
   "pygments_lexer": "ipython3",
   "version": "3.6.5"
  }
 },
 "nbformat": 4,
 "nbformat_minor": 2
}
